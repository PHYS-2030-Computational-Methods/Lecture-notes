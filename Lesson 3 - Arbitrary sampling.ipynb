{
 "cells": [
  {
   "cell_type": "markdown",
   "metadata": {},
   "source": [
    "Author: Sean Tulin\n",
    "<br>\n",
    "PHYS 2030"
   ]
  },
  {
   "cell_type": "markdown",
   "metadata": {},
   "source": [
    "# <center><font color=#46769B>Lesson 3: Sampling from arbitrary distributions</font></center>\n",
    "\n",
    "## <font color=#46769B>Discrete distributions</font>\n",
    "\n",
    "It is straightforward to generalize flipping a coin to situations where there are more than two outcomes.\n",
    "For example, suppose we roll an $n$-sided die, with probabilities $p_i$ for getting each side $i$. (We imagine the die is unevenly weighted so that the probabilities need not be equal in general.)\n",
    "\n",
    "The PDF would be\n",
    "$$P(x) = \\left\\{ \\begin{array}{cc} p_1 & {\\rm for} \\; x=a_1 \\\\\n",
    "p_2 & {\\rm for} \\; x=a_2 \\\\\n",
    "\\vdots & \\\\\n",
    "p_n & {\\rm for} \\; x=a_n \\end{array} \\right.$$\n",
    "\n",
    "where $a_i$ labels the outcome of side $i$. This is known as a __categorical distribution__.\n",
    "\n",
    "It is easy to sample from this distribution using `numpy.random.choice()`, as the following code illustrates. Note we use the keyword `p=prob` to assign probabilities to each choice. (By default, equal probabilities are assumed for each option.)"
   ]
  },
  {
   "cell_type": "code",
   "execution_count": 1,
   "metadata": {},
   "outputs": [
    {
     "data": {
      "image/png": "[encoded data removed]",
      "text/plain": [
       "<Figure size 432x288 with 1 Axes>"
      ]
     },
     "metadata": {
      "needs_background": "light"
     },
     "output_type": "display_data"
    }
   ],
   "source": [
    "import numpy as np\n",
    "import matplotlib.pyplot as plt\n",
    "\n",
    "# List of outcome options\n",
    "options = [1, 2, 3, 4]\n",
    "\n",
    "# Probabilities of outcomes (Note: total = 1)\n",
    "prob = [0.1, 0.2, 0.5, 0.2]\n",
    "\n",
    "# Number of samples\n",
    "num = 1000\n",
    "\n",
    "# Generate samples\n",
    "samples = np.random.choice(options,num,p=prob)\n",
    "\n",
    "# Make a bar graph of our samples\n",
    "plt.hist(samples)\n",
    "plt.show()"
   ]
  },
  {
   "cell_type": "markdown",
   "metadata": {},
   "source": [
    "### <font color=#46769B>Alternative method</font>\n",
    "\n",
    "Next, we write an alternative code for sampling that will accomplish the same thing. We don't *need* to do it this way given the `numpy` version is very simple, but the logic here is similar to what we will do for continuous distributions.\n",
    "\n",
    "We assign each outcome $a_i$ to a line segment of length $p_i$. Since the total probability is $\\sum_{i=1}^n p_i = 1$, the total length of all line segments is 1. So, we can divide up the range \\[0,1\\] into intervals, each assigned to a different outcome. For example, the first interval $[0,p_1]$ corresponds to $a_1$, the next interval $[p_1,p_1+p_2]$ corresponds to $a_2$, the next interval $[p_1+p_2,p_1+p_2+p_3]$ corresponds to $a_3$, and so on. The final interval \n",
    "\n",
    "$$[p_1 + p_2 + ... + p_{n-1}, \\, p_1 + p_2 + ... + p_{n-1} + p_n] = [1-p_n,\\, 1]$$ \n",
    "\n",
    "corresponds to $a_n$.\n",
    "\n",
    "Now, to sample, we choose a random number $r$ between \\[0,1\\]. Which interval $r$ falls into will tell us the value $a_i$ we obtain. Here is a code to illustrate this:\n",
    "\n"
   ]
  },
  {
   "cell_type": "code",
   "execution_count": 2,
   "metadata": {},
   "outputs": [
    {
     "data": {
      "image/png": "[encoded data removed]",
      "text/plain": [
       "<Figure size 432x288 with 1 Axes>"
      ]
     },
     "metadata": {
      "needs_background": "light"
     },
     "output_type": "display_data"
    }
   ],
   "source": [
    "# Generate samples \n",
    "# Same options and prob as above \n",
    "samples = []\n",
    "\n",
    "for k in range(num):\n",
    "    \n",
    "    r = np.random.rand()\n",
    "    \n",
    "    if r < prob[0]:\n",
    "        samples.append(options[0])\n",
    "    elif r < prob[0] + prob[1]:\n",
    "        samples.append(options[1])\n",
    "    elif r < prob[0] + prob[1] + prob[2]:\n",
    "        samples.append(options[2])\n",
    "    else:\n",
    "        samples.append(options[3])\n",
    "\n",
    "# Make a bar graph of our samples\n",
    "plt.hist(samples)\n",
    "plt.show()"
   ]
  },
  {
   "cell_type": "markdown",
   "metadata": {},
   "source": [
    "Note that the important quantities above are the __cumulative probabilities__\n",
    "\n",
    "$$c_i = \\sum_{j=1}^{i} p_j \\, .$$\n",
    "\n",
    "That is, $c_1 = p_1$ is the probability for result $a_1$, $c_2 = p_1 + p_2$ is the probability for *either* $a_1$ or $a_2$, and so forth. Finally, $c_n = p_1 + ... + p_n = 1$ is probability for getting *any* outcome. \n",
    "\n",
    "The intervals we defined above are simply written as $[0,c_1]$, $[c_1,c_2]$, $[c_2,c_3]$, etc. We can summarize the logic as follows:\n",
    "> Select a random number $r$ from a uniform distribution between $[0,1]$. If $r$ falls within the $i$th cumulative probability interval $[c_{i-1},c_i]$, then our sample value is $a_i$. (For $i=1$, the first interval is $[0,c_1]$.)\n",
    "\n",
    "This procedure will select each value of $a_i$ with probability $p_i$, exactly as we wanted.\n",
    "\n",
    "There is a built-in function `numpy.cumsum` for calculating the *cumulative* sum of a list, which is exactly what we need to do to calculate $c_i$ from $p_i$. Documentation is [here](https://numpy.org/doc/stable/reference/generated/numpy.cumsum.html).\n",
    "We can use this to rewrite above code so that it works automatically for any number of options."
   ]
  },
  {
   "cell_type": "code",
   "execution_count": 3,
   "metadata": {},
   "outputs": [
    {
     "data": {
      "image/png": "[encoded data removed]",
      "text/plain": [
       "<Figure size 432x288 with 1 Axes>"
      ]
     },
     "metadata": {
      "needs_background": "light"
     },
     "output_type": "display_data"
    }
   ],
   "source": [
    "c = np.cumsum(prob)\n",
    "\n",
    "samples = []\n",
    "\n",
    "for k in range(num):\n",
    "    \n",
    "    r = np.random.rand()\n",
    "    \n",
    "    for i in range(len(c)):\n",
    "        \n",
    "        # We want c[i-1] < r < c[i]\n",
    "        # But only need to check upper limit since failing the previous time will \n",
    "        # automatically imply r > c[i-1]\n",
    "        if r < c[i]:\n",
    "            samples.append(options[i])\n",
    "            break # exit for loop\n",
    "        \n",
    "# Make a bar graph of our samples\n",
    "plt.hist(samples)\n",
    "plt.show()"
   ]
  },
  {
   "cell_type": "markdown",
   "metadata": {},
   "source": [
    "## <font color=#46769B>Cumulative distribution functions</font>\n",
    "\n",
    "We now turn to the question of how to sample from a continous probability distribution function $P(x)$. However, before we get there, we will first discuss __cumulative distribution functions (CDFs)__. \n",
    "\n",
    "Suppose our PDF $P(x)$ takes values over the domain $-\\infty < x < +\\infty$.\n",
    "The CDF $C(x)$, defined as\n",
    "$$C(x) = \\int_{-\\infty}^x dz \\, P(z) \\, ,$$\n",
    "corresponds to the *cumulative* probability for obtaining any result less than or equal to $x$.\n",
    "Note that $C(-\\infty) = 0$ and $C(+\\infty)=1$, and that $C(x)$ is a non-decreasing function between these values.\n",
    "\n",
    "### <font color=#46769B>Example: CDF for uniform distribution</font>\n",
    "\n",
    "Let's consider a uniform PDF that is nonzero only over the interval $[0,1]$. That is,\n",
    "$$P(x) = \\left\\{ \\begin{array}{cc} 1 & {\\rm for} \\; 0 \\le x \\le 1 \\\\ 0 & {\\rm otherwise} \\end{array} \\right. \\, .$$\n",
    "We can calculate the CDF analytically to be\n",
    "$$C(x) = \\left\\{ \\begin{array}{cc} 0 & {\\rm for} \\; x < 0 \\\\\n",
    "x & {\\rm for} \\; 0 \\le x \\le 1 \\\\ 1 & {\\rm for} \\; x > 1\\end{array} \\right. \\, .$$\n",
    "\n",
    "Here is a plot of the two quantities."
   ]
  },
  {
   "cell_type": "code",
   "execution_count": 4,
   "metadata": {},
   "outputs": [
    {
     "data": {
      "image/png": "[encoded data removed]",
      "text/plain": [
       "<Figure size 432x288 with 1 Axes>"
      ]
     },
     "metadata": {
      "needs_background": "light"
     },
     "output_type": "display_data"
    }
   ],
   "source": [
    "x = np.linspace(-1,2,num=500)\n",
    "\n",
    "# Initialize PDF, CDF as an array of zeros\n",
    "PDF = np.zeros_like(x)\n",
    "CDF = np.zeros_like(x)\n",
    "\n",
    "# Populate nonzero entries of PDF and CDF\n",
    "for i in range(len(x)):\n",
    "    if (x[i] > 0) and (x[i] < 1):\n",
    "        PDF[i] = 1\n",
    "        CDF[i] = x[i]\n",
    "    elif x[i] > 1:\n",
    "        CDF[i] = 1\n",
    "    \n",
    "plt.plot(x,PDF,label='PDF')\n",
    "plt.plot(x,CDF,'--',label='CDF')\n",
    "plt.legend()\n",
    "plt.show()"
   ]
  },
  {
   "cell_type": "markdown",
   "metadata": {},
   "source": [
    "### <font color=#46769B>Example: CDF for normal distribution</font>\n",
    "\n",
    "Let's consider our PDF to be normal distribution $\\mathcal{N}(x) = \\frac{1}{\\sqrt{2\\pi\\sigma^2}} e^{- \\frac{(x-\\mu)^2}{2 \\sigma^2}}$. The CDF is\n",
    "$$C(x) = \\int_{-\\infty}^x dz \\, \\mathcal{N}(z) \n",
    "= \\int_{-\\infty}^{\\mu} dz \\, \\mathcal{N}(z) + \\int_{\\mu}^{x} dz \\, \\mathcal{N}(z) $$\n",
    "where we have simply divided the integration into two parts.\n",
    "The first term, an integral over one half of a Gaussian, is $\\tfrac{1}{2}$. The second term can be expressed as\n",
    "$$\\int_{\\mu}^{x} dz \\, \\mathcal{N}(z) = \\frac{1}{\\sqrt \\pi}\\int_{0}^{\\frac{x-\\mu}{\\sqrt{2} \\sigma}} du \\, e^{-u^2}$$\n",
    "using a change of substitution $u = \\frac{z-\\mu}{\\sqrt{2}\\sigma}$.\n",
    "This integral, which cannot be evaluated analytically, is a special function known as the __error function__ (denoted as __erf__):\n",
    "$${\\rm erf}(x) = \\frac{2}{\\sqrt{\\pi}} \\int_0^{x} du \\, e^{-u^2}\\, .$$\n",
    "Thus, the CDF for a normal distribution is\n",
    "$$C(x) = \\frac{1}{2} \\left[ 1 + {\\rm erf}\\left( \\frac{x-\\mu}{\\sqrt{2} \\sigma} \\right) \\right] \\, .$$\n",
    "We can import the error function from the `scipy.special` package, which contains useful implementations of many special functions. (See [here](https://docs.scipy.org/doc/scipy/reference/special.html) for documentation.)\n",
    "\n",
    "Here we plot the PDFs and CDFs for different normal distributions. Feel free to explore and modify this code as you like. You may note that the CDF is steepest where the PDF is largest. This is no surprise is the PDF is simply the derivative of the CDF."
   ]
  },
  {
   "cell_type": "code",
   "execution_count": 5,
   "metadata": {},
   "outputs": [
    {
     "data": {
      "image/png": "[encoded data removed]",
      "text/plain": [
       "<Figure size 432x288 with 1 Axes>"
      ]
     },
     "metadata": {
      "needs_background": "light"
     },
     "output_type": "display_data"
    }
   ],
   "source": [
    "from scipy.special import erf\n",
    "\n",
    "# This function will plot the PDF and CDF for given mu, sigma\n",
    "\n",
    "def plot_normal_dist(mu,sigma,color):\n",
    "    \n",
    "    x = np.linspace(-3,3,num=500)\n",
    "    PDF = 1/np.sqrt(2*np.pi*sigma**2) * np.exp(-0.5*(x-mu)**2/sigma**2)\n",
    "    CDF = 0.5*(1 + erf((x-mu)/sigma/np.sqrt(2)))\n",
    "    \n",
    "    plt.plot(x,PDF,color=color,label='PDF')\n",
    "    plt.plot(x,CDF,'--',color=color,label='CDF')\n",
    "\n",
    "plot_normal_dist(0,1,'blue')\n",
    "plot_normal_dist(0,0.5,'red')\n",
    "plot_normal_dist(1,0.5,'orange')\n",
    "plt.legend()\n",
    "plt.show()\n"
   ]
  },
  {
   "cell_type": "markdown",
   "metadata": {},
   "source": [
    "## <font color=#46769B>Sampling continuous distributions</font>\n",
    "\n",
    "Recall for a discrete distribution with $n$ choices, each value for $x$ corresponds to a interval in the cumulative probability, which all together span the domain $[0,1]$. Sampling amounts to choosing a random number $r$, finding which interval $r$ lies within, and selecting that value of $x$.\n",
    "\n",
    "Sampling from continuous distributions follows the same logic. In the figure below, we show an example of a PDF and CDF for a normal distribution. Consider the range between $x$ and $x + \\Delta x$ (gray vertical lines), where $\\Delta x$ is infinitesimally small.\n",
    "According to the definition of a PDF, the probability to sample $x$ within this range is $P(x) \\Delta x$.\n",
    "\n",
    "![Caption: smapling figure](https://github.com/PHYS-2030-Computational-Methods/Lecture-notes/raw/main/Sampling_figure.png)\n",
    "\n",
    "Now, suppose we select a random number $r$ from the domain $[0,1]$. The CDF allows us to map every value of $r$ to a value of $x$, according to the formula $r = C(x)$, shown by the red lines.\n",
    "If we want to pick a value of $x$ between $x$ and $x + \\Delta x$, we need to pick a value of $r$ between $C(x)$ and $C(x + \\Delta x)$.\n",
    "The probability of choosing $r$ in this range is\n",
    "$$C(x + \\Delta x) - C(x) = C(x) + \\frac{dC}{dx} \\Delta x - C(x) = P(x) \\Delta x$$\n",
    "where we have Taylor expanded $C(x + \\Delta x)$ around $x$ and kept only the leading term in $\\Delta x$.\n",
    "That is, this is exactly as we want!\n",
    "\n",
    "The procedure for sample $x$ is as follows:\n",
    "- Select a random number $r$ from the domain $[0,1]$.\n",
    "- Find the corresponding value of $x$ according to the equation $$x = C^{-1}(r)$$ where $C^{-1}$ is the __inverse CDF__. (Equivalently, you could have written $r = C(x)$.)\n",
    "- Repeating this process $N$ times will generate $N$ samples for $x$ from $P(x)$.\n",
    "\n"
   ]
  },
  {
   "cell_type": "markdown",
   "metadata": {},
   "source": [
    "### <font color=#46769B>Example: Sampling from an exponential distribution</font>\n",
    "\n",
    "Consider an exponential probability distribution\n",
    "$$P(x) = \\left\\{ \\begin{array}{cc} a e^{-ax} & {\\rm for} \\; x > 0 \\\\ 0 & {\\rm otherwise} \\end{array} \\right.$$\n",
    "where $a$ is a positive, real constant. Let's draw random samples for $x$ from this PDF.\n",
    "\n",
    "First, we need to calculate the CDF. By integrating the PDF, we find\n",
    "$$C(x) = \\left\\{ \\begin{array}{cc} 1 - e^{-ax} & {\\rm for} \\; x > 0 \\\\ 0 & {\\rm otherwise} \\end{array} \\right. \\, .$$ \n",
    "Next, we want to solve the equation $r = C(x)$ for $x$. This yields\n",
    "$$x = - \\frac{1}{a} \\ln\\left( 1- r \\right)\\, . \\qquad {\\rm (1)}$$\n",
    "The function in Eq. (1) is the inverse CDF. So, we draw $N$ samples for $x$ by drawing $N$ random values for $r$, drawn uniformly from the domain $[0,1]$, and plug each value of $r$ into Eq. (1). \n",
    "\n",
    "Here is a code that implements this. We draw samples for $x$ and compare the original PDF. Try:\n",
    "- Increasing the number of samples `num` and number of `bins` in the histogram.\n",
    "- Changing the value of `a`\n",
    "- Changing the y-axis to a log scale using `plt.yscale('log')`\n"
   ]
  },
  {
   "cell_type": "code",
   "execution_count": 6,
   "metadata": {},
   "outputs": [
    {
     "data": {
      "image/png": "[encoded data removed]",
      "text/plain": [
       "<Figure size 432x288 with 1 Axes>"
      ]
     },
     "metadata": {
      "needs_background": "light"
     },
     "output_type": "display_data"
    }
   ],
   "source": [
    "num = 1000\n",
    "a = 1\n",
    "\n",
    "r = np.random.rand(num)\n",
    "x_samples = -1/a * np.log(1-r)\n",
    "plt.hist(x_samples,bins=10,density=True,label='sampling')\n",
    "\n",
    "# Compare to original PDF\n",
    "x = np.linspace(0,10)\n",
    "PDF = a*np.exp(-a*x)\n",
    "plt.plot(x,PDF,label='PDF')\n",
    "\n",
    "plt.legend()\n",
    "plt.show()"
   ]
  },
  {
   "cell_type": "markdown",
   "metadata": {},
   "source": [
    "## <font color=#46769B>Quantile function</font>\n",
    "\n",
    "The inverse CDF $C^{-1}$ is also known as the __quantile function__. The $p$th quantile is a value of $x$, denoted $x_p$, where the probability to find a value $x \\le x_p$ is $p$. ($p$ is often quoted as a percentage.) For example, the 25\\%-quantile is the value $x_{25}$ where 25\\% of $x$ values satisfy $x \\le x_{25}$, while the remaining 75\\% are above this value, $x > x_{25}$. The quantile is simply\n",
    "$$x_p = C^{-1}(p) \\, .$$\n",
    "\n",
    "The __median__ is $x_{50} = C^{-1}(0.5)$, the point where half of the $x$ values are above and half are below. Other quantiles also have special names, e.g., __quartiles__ represent the values $x_{25}$, $x_{50}$, $x_{75}$ that divide $x$ into fourths.\n",
    "\n",
    "For symmetric distributions, such as a normal distribution, the mean and median are the same. For asymmetric distributions, this is not the case.\n",
    "\n",
    "Quartiles can be computed from your samples using the built-in function `numpy.quantile`.  The syntax\n",
    "```py\n",
    "numpy.quantile(samples,p)\n",
    "```\n",
    "will return the value of $x_p$ from your samples. It does this by sorting `samples` and find what element is a fraction $p$ along the sorted array. (If $x_p$ would lie between two array elements, there is a method for guessing the position of $x_p$ between them. See [here](https://numpy.org/doc/stable/reference/generated/numpy.quantile.html) for further documentation.)\n",
    "\n",
    "\n",
    "\n",
    "### <font color=#46769B>Example: Exponential distribution</font>\n",
    "\n",
    "For the exponential distribution defined above, the mean is\n",
    "$$ \\mu = \\int_{-\\infty}^{\\infty} dx \\, x \\, P(x) = a \\int_0^{\\infty} dx \\, x \\, e^{-a x} = \\frac{1}{a} \\, .$$\n",
    "On the otherhand, the median is\n",
    "$$ x_{50} = C^{-1}\\left(\\tfrac{1}{2}\\right) = \\frac{\\ln(2)}{a} \\, .$$\n",
    "\n",
    "Let's compute the quartiles from our samples, following the code below. Try changing `num`, the number of samples."
   ]
  },
  {
   "cell_type": "code",
   "execution_count": 9,
   "metadata": {},
   "outputs": [
    {
     "name": "stdout",
     "output_type": "stream",
     "text": [
      "x_25 = 0.2876820724517809\n",
      "x_50 = 0.6931471805599453\n",
      "x_75 = 1.3862943611198906\n",
      "\n",
      "\n",
      "x_25 = 0.2872143051605357\n",
      "x_50 = 0.6916011716985695\n",
      "x_75 = 1.385867035685793\n"
     ]
    }
   ],
   "source": [
    "import numpy as np\n",
    "\n",
    "# Quantile function for an exponential PDF\n",
    "a = 1\n",
    "def exp_quantile(p):\n",
    "    return -1/a * np.log(1-p)\n",
    "\n",
    "# Print (true) quartiles\n",
    "print('x_25 =', exp_quantile(0.25))\n",
    "print('x_50 =', exp_quantile(0.5))\n",
    "print('x_75 =', exp_quantile(0.75))\n",
    "\n",
    "print('\\n') # newline\n",
    "\n",
    "# Estimate quartiles from samples\n",
    "num = 100000\n",
    "r = np.random.rand(num)\n",
    "x_samples = -1/a * np.log(1-r)\n",
    "\n",
    "print('x_25 =', np.quantile(x_samples,0.25))\n",
    "print('x_50 =', np.quantile(x_samples,0.5))\n",
    "print('x_75 =', np.quantile(x_samples,0.75))\n"
   ]
  },
  {
   "cell_type": "code",
   "execution_count": null,
   "metadata": {},
   "outputs": [],
   "source": []
  }
 ],
 "metadata": {
  "kernelspec": {
   "display_name": "Python 3",
   "language": "python",
   "name": "python3"
  },
  "language_info": {
   "codemirror_mode": {
    "name": "ipython",
    "version": 3
   },
   "file_extension": ".py",
   "mimetype": "text/x-python",
   "name": "python",
   "nbconvert_exporter": "python",
   "pygments_lexer": "ipython3",
   "version": "3.7.6"
  }
 },
 "nbformat": 4,
 "nbformat_minor": 4
}
