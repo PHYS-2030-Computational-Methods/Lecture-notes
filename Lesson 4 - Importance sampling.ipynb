{
 "cells": [
  {
   "cell_type": "markdown",
   "metadata": {},
   "source": [
    "Author: Sean Tulin\n",
    "<br>\n",
    "PHYS 2030"
   ]
  },
  {
   "cell_type": "markdown",
   "metadata": {},
   "source": [
    "# <center><font color=#46769B>Lesson 4: Importance Sampling</font></center>\n",
    "\n",
    "## <font color=#46769B>Motivation</font>\n",
    "\n",
    "We have studied several examples using *inverse CDF sampling* to sample from a probability distribution. \n",
    "This requires that we are able to integrate the PDF to compute the CDF, which is then inverted to obtain the inverse CDF $C^{-1}$. \n",
    "While this was accomplished analytically in our examples, for a general PDF it may not be possible to perform either of these steps analytically.\n",
    "In principle, one can use numerical integration and inversion algorithms to perform these tasks, but they may be numerically costly.\n",
    "\n",
    "There is also another limitation: so far, we have only considered *univariate* PDFs, i.e., $P(x)$ is a function of a single variable $x$. There can also be *multivariate* probability distributions, e.g., $P(x,y)$, a PDF that depends on two variables $x$ and $y$ and you want to sample *both* $x$ and $y$.\n",
    "\n",
    "We have seen some simple multivariate PDFs already. For instance, in Example 8, we computed the muon decay length $d$ by sampling two parameters, $t$ from $P_t(t)$ and $E$ from $P_E(E)$. This is a (trivial) multivariate PDF: \n",
    "\n",
    "$$P(t,E) = P_t(t) P_E(E) \\, .$$\n",
    "\n",
    "That is, the joint multivariate PDF factorizes into a product of univariate PDFs, which can be sampled from individually.\n",
    "However, if a multivariate PDF cannot be factorized, we need another approach.\n",
    "\n",
    "## <font color=#46769B>Basic idea</font>\n",
    "\n",
    "Suppose we have a PDF $P(x)$ that we *want* to draw samples from, known as the __target distribution__. but it is too complicated to use inverse CDF sampling.  We can use another method, __importance sampling__. The main idea is: \n",
    "\n",
    "- Draw random samples for $x$ from a *different* PDF, labeled $Q(x)$, known as the __proposal distribution__:\n",
    "$$(x_0, \\, x_1, \\, ..., \\, x_{N-1}) \\, .$$\n",
    "You are free to choose $Q(x)$ to be anything you like and ideally $Q(x)$ should be easy to sample from. It also needs to satisfy a few properties (discussed below).\n",
    "\n",
    "- Calculate __weights__\n",
    "$$ w_i = \\frac{P(x_i)}{Q(x_i)} $$\n",
    "for each sample of $x$. The quantity $P(x)/Q(x)$ is known as the __likelihood ratio__. \n",
    "\n",
    "- We calculate averages *by weighting each sample $x_i$ by its likelihood ratio $w_i$*. For example, the mean value of $x$ is\n",
    "$$\\langle x \\rangle_w = \\frac{1}{N} \\sum_{i=0}^{N-1} w_i \\, x_i \\, .$$\n",
    "The mean value of some arbitrary function $f(x)$ is\n",
    "$$\\langle f(x) \\rangle_w = \\frac{1}{N} \\sum_{i=0}^{N-1} w_i \\, f(x_i) \\, . \\qquad (1)$$\n",
    "We have generalized our notion of mean value now to be a *weighted* average. We attach an extra subscript $w$ to denote a weighted mean.\n",
    "\n",
    "Clearly, if $P(x) = Q(x)$, then we get back the usual results for computing a mean. \n",
    "\n",
    "The key idea of importance sampling is that even though we are not sampling $x$ from $P(x)$ directly, by including the appropriate weights $w_i$ for each sample $x_i$, we can calculate any quantity as if we were."
   ]
  },
  {
   "cell_type": "markdown",
   "metadata": {},
   "source": [
    "## <font color=#46769B>Proof</font>\n",
    "\n",
    "Suppose we have a PDF $P(x)$ and we want to calculate the (true) mean of a function $f(x)$. This is\n",
    "\n",
    "$$\\overline{f(x)}_P = \\int_{-\\infty}^{\\infty} dx \\, f(x) \\, P(x)\\, . $$\n",
    "\n",
    "We have attached an extra subscript $P$ to denote that we are taking the mean *with respect to a certain PDF*, namely $P(x)$.\n",
    "\n",
    "Next, we can insert $Q(x)/Q(x)$ under the integral:\n",
    "\n",
    "$$\\overline{f(x)}_P = \\int_{-\\infty}^{\\infty} dx \\, f(x) \\, \\frac{P(x)}{Q(x)} Q(x) = \\int_{-\\infty}^{\\infty} dx \\, g(x)\\,  Q(x) = \\overline{g(x)}_Q  \\, . \\qquad (2) $$\n",
    "\n",
    "where $g(x) = f(x)P(x)/Q(x)$. \n",
    "\n",
    "Next, we turn to Monte Carlo sampling to compute $\\overline{f(x)}_P$. According to Eq. (2), we can do a *different* Monte Carlo simulation, as follows:\n",
    "- Draw $N$ random samples for $x$ from another PDF $Q(x)$.\n",
    "- Calculate the mean value of $g(x)$ from our samples, which approaches $\\overline{g(x)}_Q$ in the large $N$ limit:\n",
    "\n",
    "$$\\langle g(x) \\rangle = \\frac{1}{N} \\sum_{i=0}^{N-1} g(x_i) \\xrightarrow{N \\to \\infty} \\overline{g(x)}_Q $$ \n",
    "\n",
    "This line can be rewritten in terms of $f(x)$ as follows. The left-hand side is the weighted sum in Eq. (1), while the right-hand side is in Eq. (2). So, we have\n",
    "\n",
    "$$\\langle f(x) \\rangle_w = \\frac{1}{N} \\sum_{i=0}^{N-1} w_i\\,  f(x_i) \\xrightarrow{N \\to \\infty} \\overline{f(x)}_P \\, . \\qquad (3)$$ \n",
    "\n",
    "If $P(x)$ is appropriately normalized to one, then we have\n",
    "\n",
    "$$1 = \\int_{-\\infty}^{+\\infty} dx \\, P(x) = \\int_{-\\infty}^{+\\infty} dx \\, Q(x) \\, \\frac{P(x)}{Q(x)} \\; .$$\n",
    "\n",
    "Applying the same logic as above with $f(x) = 1$, we have the weights satisfy the equation\n",
    "\n",
    "$$\\frac{1}{N} \\sum_{i=0}^{N-1} w_i \\approx 1 \\, ,$$\n",
    "\n",
    "that is, in the large $N$ limit the sum of the weights should approach one.\n",
    "\n",
    "## <font color=#46769B>Further comments</font>\n",
    "\n",
    "How do you select the proposal distribution $Q(x)$? There are two essential rules:\n",
    "- $Q(x)$ must itself be a valid PDF, i.e., normalized and non-negative.\n",
    "- $Q(x)$ must be nonzero for the entire range where $P(x)$ is nonzero. Otherwise, the step where we insert $Q(x)/Q(x)$ is ill-defined where $Q(x)$ is zero.\n",
    "\n",
    "In practice, nothing \"blows up\" if you do have $Q(x)$ go to zero where it should not. \n",
    "You are simply omitting some values of $x$ that should be there, and you will get the wrong results. (Note the converse need not be true. It is fine if $P(x)$ is zero even though $Q(x)$ is not. Such points $x_i$ will not contribute to any sums since their weights $w_i = P(x_i)/Q(x_i)$ will be zero.)\n",
    "\n",
    "Then, there are two *suggested* rules:\n",
    "- $Q(x)$ should not go to zero faster than $P(x)$ as, e.g., $x \\to \\pm \\infty$.\n",
    "- $Q(x)$ should not be small in the region where $P(x)$ is large.\n",
    "\n",
    "Effectively, you are infrequently sampling points $x_i$ from the proposal distribution that have large weights $w_i = P(x_i)/Q(x_i)$. Your results will be noisy (or worse) if such points are only sampled infrequently or not at all. In practice, this can be \"brute forced\" by just increasing $N$, but it is a poor use of computing resources."
   ]
  },
  {
   "cell_type": "markdown",
   "metadata": {},
   "source": [
    "## <font color=#46769B>Weights</font>\n",
    "\n",
    "Previously, we used `np.mean` and `np.std` to calculate the mean and standard deviations of our samples. Now, the situation is different since we must calculate *weighted* sums.\n",
    "\n",
    "Here we will drop the subscript $w$ for a weighted mean. We will just remember that for importance sampling the we must always consider weighted means to calculate quantities with respect to our proposal distribution $P(x)$.\n",
    "\n",
    "The mean is\n",
    "\n",
    "$$\\langle x \\rangle = \\frac{1}{N} \\sum_{i=0}^{N-1} w_i x_i \\, .$$\n",
    "\n",
    "The variance is\n",
    "\n",
    "$$\\Delta x^2 = \\frac{1}{N} \\sum_{i=0}^{N-1} w_i \\left(x_i - \\langle x \\rangle\\right)^2 \\, .$$\n",
    "\n",
    "As before, one can show that $\\Delta x^2 = \\langle x^2 \\rangle - \\langle x \\rangle^2$, so we must calculate the *mean of the square of $x$*, which is\n",
    "\n",
    "$$\\langle x^2 \\rangle = \\frac{1}{N} \\sum_{i=0}^{N-1} w_i x_i^2 \\, .$$\n",
    "\n",
    "Lastly, the standard deviation is the square root of the variance, $\\Delta x = \\sqrt{\\Delta x^2}$.\n",
    "\n",
    "Let's write a code to calculate the mean and standard deviation with weights.\n",
    "\n",
    "Note the code below takes in the weights as a keyword. If no weights are entered, it returns the usual mean and standard deviation.\n"
   ]
  },
  {
   "cell_type": "code",
   "execution_count": 1,
   "metadata": {},
   "outputs": [],
   "source": [
    "def mean(x,weights=None):\n",
    "    \n",
    "    if weights is not None:\n",
    "        return np.mean(weights*x)\n",
    "    else:\n",
    "        return np.mean(x)\n",
    "    \n",
    "def std(x,weights=None):\n",
    "    \n",
    "    if weights is not None:\n",
    "        return np.sqrt( np.mean(weights*x**2) - np.mean(weights*x)**2 )\n",
    "    else:\n",
    "        return np.std(x)"
   ]
  },
  {
   "cell_type": "markdown",
   "metadata": {},
   "source": [
    "## <font color=#46769B>Example: Importance sampling with a good proposal distribution</font>\n",
    "\n",
    "Consider a simple example:\n",
    "\n",
    "$${\\rm target \\; distribution:} \\qquad P(x) = \\mathcal{N}(1,1)$$\n",
    "\n",
    "$${\\rm proposal \\; distribution:} \\qquad Q(x) = \\mathcal{N}(1.5,2)$$\n",
    "\n",
    "Recall, $\\mathcal{N}(\\mu,\\sigma)$ is our shorthand notation for a normal distribution centered at $\\mu$ with width $\\sigma$.\n",
    "\n",
    "We are choosing target and proposal distributions with different means and standard deviations.\n",
    "\n",
    "Here is a code that will implement these steps:\n",
    "- Sample points $x_i$ from $Q(x)$\n",
    "- Compute the weights $w_i$\n",
    "- Compute weighted and unweighted means and standard deviations\n",
    "- Plot histograms to see our results. Note `plt.hist` has a keyword `weights` that will allow us to attach weights to each value in the sample.\n",
    "\n",
    "The takeaway from below is that including the weights reproduces what we expect if we had sampled from $P$ directly. Not including weights just gives results from sampling from $Q$, which is what we did.\n",
    "\n",
    "Try changing $\\mu$ and $\\sigma$ for the proposal distribution and see what happens. (Even a good proposal distribution can turn bad!)\n"
   ]
  },
  {
   "cell_type": "code",
   "execution_count": 2,
   "metadata": {},
   "outputs": [
    {
     "name": "stdout",
     "output_type": "stream",
     "text": [
      "No weights: returns mean and standard deviations for Q\n",
      "Mean and standard deviation are 1.4962505195145501 and 1.9953351118259957\n",
      "\n",
      "\n",
      "With weights: returns mean and standard deviations for P\n",
      "Mean and standard deviation are 1.0010351688356256 and 1.0010154153032367\n",
      "\n",
      "\n",
      "Mean value of the weights should be close to 1: 1.0009681530363335\n"
     ]
    },
    {
     "data": {
      "image/png": "[encoded data removed]",
      "text/plain": [
       "<Figure size 432x288 with 1 Axes>"
      ]
     },
     "metadata": {
      "needs_background": "light"
     },
     "output_type": "display_data"
    }
   ],
   "source": [
    "import numpy as np\n",
    "import matplotlib.pyplot as plt\n",
    "\n",
    "# Define PDFs\n",
    "\n",
    "# P(x)\n",
    "mu_P, sigma_P = 1, 1\n",
    "def P(x):\n",
    "    return 1/np.sqrt(2*np.pi*sigma_P**2) * np.exp(-0.5*(x-mu_P)**2/sigma_P**2)\n",
    "\n",
    "# Q(x)\n",
    "mu_Q, sigma_Q = 1.5, 2\n",
    "def Q(x):\n",
    "    return 1/np.sqrt(2*np.pi*sigma_Q**2) * np.exp(-0.5*(x-mu_Q)**2/sigma_Q**2)\n",
    "\n",
    "# Sample from Q(x)\n",
    "num = 10**5\n",
    "x_samples = np.random.normal(mu_Q,sigma_Q,num)\n",
    "\n",
    "# Calculate weights\n",
    "w = P(x_samples)/Q(x_samples)\n",
    "\n",
    "# Compute mean with no weights\n",
    "print('No weights: returns mean and standard deviations for Q')\n",
    "print('Mean and standard deviation are', mean(x_samples), 'and', std(x_samples) )\n",
    "\n",
    "print('\\n') # line break\n",
    "\n",
    "# Compute mean with weights\n",
    "print('With weights: returns mean and standard deviations for P')\n",
    "print('Mean and standard deviation are', mean(x_samples,weights=w), 'and', std(x_samples,weights=w) )\n",
    "\n",
    "print('\\n') # line break\n",
    "\n",
    "# Check that the weights are normalized to 1\n",
    "print('Mean value of the weights should be close to 1:', np.mean(w))\n",
    "\n",
    "\n",
    "# Histograms\n",
    "\n",
    "# Unweighted histogram (histogram for Q)\n",
    "plt.hist(x_samples,bins=40,alpha=0.5,density=True,label='Unweighted samples')\n",
    "\n",
    "# Weighted histogram (histogram for P)\n",
    "plt.hist(x_samples,bins=40,alpha=0.5,weights=w,density=True,label='Weighted samples')\n",
    "\n",
    "# Plots\n",
    "x = np.linspace(-8,10,num=100)\n",
    "plt.plot(x,Q(x),label='Q(x)',color='blue')\n",
    "plt.plot(x,P(x),label='P(x)',color='darkorange')\n",
    "\n",
    "plt.legend()\n",
    "plt.show()"
   ]
  },
  {
   "cell_type": "markdown",
   "metadata": {},
   "source": [
    "## <font color=#46769B>Example: Importance sampling with bad proposal distribution</font>\n",
    "\n",
    "Consider the same target distribution $P(x) = \\mathcal{N}(1,1)$, but a different proposal distribution $Q(x)$:\n",
    "$${\\rm proposal \\; distribution:} \\qquad Q(x) \n",
    "=  \\left\\{ \\begin{array}{cc} \\frac{1}{2} & {\\rm for} \\; 0 \\le x \\le 2 \\\\ 0 & {\\rm otherwise} \\end{array} \\right.\\, .$$\n",
    "That is, $Q(x)$ is a uniform distribution over the interval $[0,2]$. This is a bad choice since $Q(x)$ goes to zero outside this interval while $P(x)$ does not. Let's see what happens.\n",
    "\n",
    "Some take aways:\n",
    "- Values of $x$ where $Q(x) = 0$ do not get sampled, so it is impossible to reproduce the true PDF there.\n",
    "- The sum of the weights is no longer approximately $1$.\n",
    "- The values of the mean and standard deviation no longer approximate their true values."
   ]
  },
  {
   "cell_type": "code",
   "execution_count": 3,
   "metadata": {},
   "outputs": [
    {
     "name": "stdout",
     "output_type": "stream",
     "text": [
      "Mean and standard deviation are 0.6829190553088322 and 0.6442580227667493\n",
      "Mean value of the weights should be close to 1: 0.682860582587146\n"
     ]
    },
    {
     "data": {
      "image/png": "[encoded data removed]",
      "text/plain": [
       "<Figure size 432x288 with 1 Axes>"
      ]
     },
     "metadata": {
      "needs_background": "light"
     },
     "output_type": "display_data"
    }
   ],
   "source": [
    "# Define PDFs\n",
    "\n",
    "# P(x)\n",
    "mu_P, sigma_P = 1, 1\n",
    "def P(x):\n",
    "    return 1/np.sqrt(2*np.pi*sigma_P**2) * np.exp(-0.5*(x-mu_P)**2/sigma_P**2)\n",
    "\n",
    "# Q(x)\n",
    "def Q(x):\n",
    "    return np.where( (x >= 0) & (x <= 2), 0.5, 0)\n",
    "    \n",
    "# Sample from Q(x)\n",
    "num = 10**6\n",
    "x_samples = 2*np.random.rand(num)\n",
    "\n",
    "# Calculate weights\n",
    "w = P(x_samples)/Q(x_samples)\n",
    "\n",
    "# Compute mean with weights\n",
    "print('Mean and standard deviation are', mean(x_samples,weights=w), 'and', std(x_samples,weights=w) )\n",
    "print('Mean value of the weights should be close to 1:', np.mean(w))\n",
    "\n",
    "# Weighted histogram (histogram for P)\n",
    "plt.hist(x_samples,bins=40,alpha=0.5,weights=w,density=True,label='Weighted samples',color='darkorange')\n",
    "\n",
    "# Plots\n",
    "x = np.linspace(-3,5,num=100)\n",
    "plt.plot(x,P(x),label='P(x)',color='darkorange')\n",
    "\n",
    "plt.legend()\n",
    "plt.show()"
   ]
  },
  {
   "cell_type": "markdown",
   "metadata": {},
   "source": [
    "## <font color=#46769B>Example: One-sided Gaussian</font>\n",
    "\n",
    "Suppose we want to draw samples from the following PDF\n",
    "$$P(x) = \\left\\{ \\begin{array}{cc} \\sqrt{\\frac{2}{\\pi}} \\, e^{- \\frac{x^2}{2} } & {\\rm for} \\; x \\ge 0 \\\\\n",
    "0 & {\\rm otherwise} \\end{array} \\right. \\, ,$$\n",
    "which is half of a Gaussian with $\\mu=0$ and $\\sigma=1$.\n",
    "One method to solve this problem is just to sample from a full Gaussian $\\mathcal{N}(0,1)$ and take the absolute value for each $x$ sample. \n",
    "\n",
    "Here we will use importance sampling, using an exponential proposal distribution\n",
    "$$Q(x) = \\left\\{ \\begin{array}{cc} a \\, e^{- ax } & {\\rm for} \\; x \\ge 0 \\\\\n",
    "0 & {\\rm otherwise} \\end{array} \\right. \\, ,$$\n",
    "where $a$ is a constant that we are free to choose ourselves. Below I set $a=1$, but try choosing, e.g., $a=0.01$ or $a=100$, to see what happens.\n"
   ]
  },
  {
   "cell_type": "code",
   "execution_count": 4,
   "metadata": {},
   "outputs": [
    {
     "data": {
      "image/png": "[encoded data removed]",
      "text/plain": [
       "<Figure size 432x288 with 1 Axes>"
      ]
     },
     "metadata": {
      "needs_background": "light"
     },
     "output_type": "display_data"
    }
   ],
   "source": [
    "num = 10**5\n",
    "a = 1\n",
    "\n",
    "def P(x):\n",
    "    return np.sqrt(2/np.pi)*np.exp(-0.5*x**2)\n",
    "\n",
    "def Q(x):\n",
    "    return a*np.exp(-a*x)\n",
    "\n",
    "def sample_x_from_Q(num):\n",
    "    r = np.random.rand(num)\n",
    "    x = -1/a * np.log(1-r)\n",
    "    return x\n",
    "\n",
    "x_samples = sample_x_from_Q(num)\n",
    "w = P(x_samples)/Q(x_samples)\n",
    "\n",
    "# define bins explicitly\n",
    "bins = np.linspace(0,5)\n",
    "\n",
    "plt.hist(x_samples,weights=w,density=True,bins=bins,label='Samples')\n",
    "\n",
    "x = np.linspace(0,5)\n",
    "plt.plot(x,P(x),label='P(x)')\n",
    "\n",
    "plt.legend()\n",
    "plt.show()\n",
    "\n"
   ]
  },
  {
   "cell_type": "code",
   "execution_count": null,
   "metadata": {},
   "outputs": [],
   "source": []
  }
 ],
 "metadata": {
  "kernelspec": {
   "display_name": "Python 3",
   "language": "python",
   "name": "python3"
  },
  "language_info": {
   "codemirror_mode": {
    "name": "ipython",
    "version": 3
   },
   "file_extension": ".py",
   "mimetype": "text/x-python",
   "name": "python",
   "nbconvert_exporter": "python",
   "pygments_lexer": "ipython3",
   "version": "3.7.6"
  }
 },
 "nbformat": 4,
 "nbformat_minor": 4
}
